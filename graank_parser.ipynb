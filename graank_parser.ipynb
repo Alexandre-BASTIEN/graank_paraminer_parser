{
  "nbformat": 4,
  "nbformat_minor": 0,
  "metadata": {
    "colab": {
      "name": "Untitled0.ipynb",
      "provenance": [],
      "collapsed_sections": []
    },
    "kernelspec": {
      "name": "python3",
      "display_name": "Python 3"
    },
    "language_info": {
      "name": "python"
    }
  },
  "cells": [
    {
      "cell_type": "code",
      "metadata": {
        "colab": {
          "base_uri": "https://localhost:8080/"
        },
        "id": "Nf_jaqdDqzhq",
        "outputId": "ffa01bd0-722b-44f9-f56a-013b43c8932a"
      },
      "source": [
        "from google.colab import drive\n",
        "drive.mount('/content/gdrive')"
      ],
      "execution_count": 5,
      "outputs": [
        {
          "output_type": "stream",
          "name": "stdout",
          "text": [
            "Drive already mounted at /content/gdrive; to attempt to forcibly remount, call drive.mount(\"/content/gdrive\", force_remount=True).\n"
          ]
        }
      ]
    },
    {
      "cell_type": "code",
      "metadata": {
        "id": "rUFUagESJzh-"
      },
      "source": [
        "import os\n",
        "import numpy as np\n",
        "import pandas as pd"
      ],
      "execution_count": 6,
      "outputs": []
    },
    {
      "cell_type": "code",
      "metadata": {
        "id": "nAcepxbbq4K7"
      },
      "source": [
        "#f1 MUST be grite paraminer output\n",
        "#f2 MUST be graank paraminer output\n",
        "\n",
        "f1 = \"gdrive/My Drive/Travail/STAGE/dat/sortieGRITE.txt\"\n",
        "f2 = \"gdrive/My Drive/Travail/STAGE/dat/sortieGRAANK.txt\"\n"
      ],
      "execution_count": 7,
      "outputs": []
    },
    {
      "cell_type": "code",
      "metadata": {
        "colab": {
          "base_uri": "https://localhost:8080/"
        },
        "id": "OvuaeYwoiFOi",
        "outputId": "fdc888ad-b694-46e4-d0f7-e5f593652f69"
      },
      "source": [
        "itemsets = {} #dict to construct dataframe\n",
        "nb_attributes = 0;\n",
        "nb_lig = 0;\n",
        "\n",
        "#fill dict from file1\n",
        "with open(f1, \"r\") as file1:\n",
        "  done = False\n",
        "  for line in file1:\n",
        "    # get number of attributes and number of transactions\n",
        "    if (not done):\n",
        "        if (\"nb_attributes\" in line):\n",
        "          nb_attributes = int(''.join(x for x in line if x.isdigit()))\n",
        "          print(nb_attributes, \"attributes\")\n",
        "        if (line.isdigit and \"r\" not in line): #r to skip the \"running with\"\n",
        "          nb_lig = int(line)\n",
        "          print(nb_lig, \"lines\")\n",
        "        if (nb_attributes != 0 and nb_lig != 0): done = True\n",
        "\n",
        "    #itemsets\n",
        "    else:\n",
        "      if ('(' in line):\n",
        "        i = line.index('(')\n",
        "        j = line.index(')')\n",
        "        itemsets[line[:i]] = [int(line[i+1:j])]\n",
        "\n",
        "#fill dict from file2\n",
        "with open(f2,\"r\") as file2:\n",
        "  for line in file2:\n",
        "    if ('r' not in line and '(' in line):\n",
        "      i = line.index('(')\n",
        "      j = line.index(')')\n",
        "      itemsets[line[:i]].append(int(line[i+1:j]))\n"
      ],
      "execution_count": 8,
      "outputs": [
        {
          "output_type": "stream",
          "name": "stdout",
          "text": [
            "13 attributes\n",
            "826 lines\n"
          ]
        }
      ]
    },
    {
      "cell_type": "code",
      "metadata": {
        "id": "sAgkJB-migo1"
      },
      "source": [
        "df = pd.DataFrame.from_dict(itemsets,orient='index',columns=[\"GRITE\",\"GRAANK\"])\n",
        "\n",
        "df[\"GRITE%\"] = df[\"GRITE\"]/(nb_lig)\n",
        "#div graank support\n",
        "df[\"GRAANK%\"] = df[\"GRAANK\"]/((nb_lig*(nb_lig-1))/2)"
      ],
      "execution_count": 20,
      "outputs": []
    },
    {
      "cell_type": "code",
      "metadata": {
        "colab": {
          "base_uri": "https://localhost:8080/",
          "height": 424
        },
        "id": "gJ4mpquKQuGO",
        "outputId": "0f4c6604-2edb-4a5c-8cc8-643d740f4fdc"
      },
      "source": [
        "df"
      ],
      "execution_count": 23,
      "outputs": [
        {
          "output_type": "execute_result",
          "data": {
            "text/html": [
              "<div>\n",
              "<style scoped>\n",
              "    .dataframe tbody tr th:only-of-type {\n",
              "        vertical-align: middle;\n",
              "    }\n",
              "\n",
              "    .dataframe tbody tr th {\n",
              "        vertical-align: top;\n",
              "    }\n",
              "\n",
              "    .dataframe thead th {\n",
              "        text-align: right;\n",
              "    }\n",
              "</style>\n",
              "<table border=\"1\" class=\"dataframe\">\n",
              "  <thead>\n",
              "    <tr style=\"text-align: right;\">\n",
              "      <th></th>\n",
              "      <th>GRITE</th>\n",
              "      <th>GRAANK</th>\n",
              "      <th>GRITE%</th>\n",
              "      <th>GRAANK%</th>\n",
              "    </tr>\n",
              "  </thead>\n",
              "  <tbody>\n",
              "    <tr>\n",
              "      <th>1+</th>\n",
              "      <td>826</td>\n",
              "      <td>340725</td>\n",
              "      <td>1.000000</td>\n",
              "      <td>1.000000</td>\n",
              "    </tr>\n",
              "    <tr>\n",
              "      <th>2+</th>\n",
              "      <td>826</td>\n",
              "      <td>340725</td>\n",
              "      <td>1.000000</td>\n",
              "      <td>1.000000</td>\n",
              "    </tr>\n",
              "    <tr>\n",
              "      <th>3+</th>\n",
              "      <td>826</td>\n",
              "      <td>340725</td>\n",
              "      <td>1.000000</td>\n",
              "      <td>1.000000</td>\n",
              "    </tr>\n",
              "    <tr>\n",
              "      <th>4+</th>\n",
              "      <td>826</td>\n",
              "      <td>340725</td>\n",
              "      <td>1.000000</td>\n",
              "      <td>1.000000</td>\n",
              "    </tr>\n",
              "    <tr>\n",
              "      <th>5+</th>\n",
              "      <td>826</td>\n",
              "      <td>340725</td>\n",
              "      <td>1.000000</td>\n",
              "      <td>1.000000</td>\n",
              "    </tr>\n",
              "    <tr>\n",
              "      <th>...</th>\n",
              "      <td>...</td>\n",
              "      <td>...</td>\n",
              "      <td>...</td>\n",
              "      <td>...</td>\n",
              "    </tr>\n",
              "    <tr>\n",
              "      <th>10+  11-  12+</th>\n",
              "      <td>25</td>\n",
              "      <td>116128</td>\n",
              "      <td>0.030266</td>\n",
              "      <td>0.340826</td>\n",
              "    </tr>\n",
              "    <tr>\n",
              "      <th>11+  12+  13-</th>\n",
              "      <td>2</td>\n",
              "      <td>2</td>\n",
              "      <td>0.002421</td>\n",
              "      <td>0.000006</td>\n",
              "    </tr>\n",
              "    <tr>\n",
              "      <th>11+  12+  13+</th>\n",
              "      <td>34</td>\n",
              "      <td>71392</td>\n",
              "      <td>0.041162</td>\n",
              "      <td>0.209530</td>\n",
              "    </tr>\n",
              "    <tr>\n",
              "      <th>11+  12-  13-</th>\n",
              "      <td>46</td>\n",
              "      <td>152681</td>\n",
              "      <td>0.055690</td>\n",
              "      <td>0.448106</td>\n",
              "    </tr>\n",
              "    <tr>\n",
              "      <th>11+  12-  13+</th>\n",
              "      <td>42</td>\n",
              "      <td>116650</td>\n",
              "      <td>0.050847</td>\n",
              "      <td>0.342358</td>\n",
              "    </tr>\n",
              "  </tbody>\n",
              "</table>\n",
              "<p>678085 rows × 4 columns</p>\n",
              "</div>"
            ],
            "text/plain": [
              "                 GRITE  GRAANK    GRITE%   GRAANK%\n",
              " 1+                826  340725  1.000000  1.000000\n",
              " 2+                826  340725  1.000000  1.000000\n",
              " 3+                826  340725  1.000000  1.000000\n",
              " 4+                826  340725  1.000000  1.000000\n",
              " 5+                826  340725  1.000000  1.000000\n",
              "...                ...     ...       ...       ...\n",
              " 10+  11-  12+      25  116128  0.030266  0.340826\n",
              " 11+  12+  13-       2       2  0.002421  0.000006\n",
              " 11+  12+  13+      34   71392  0.041162  0.209530\n",
              " 11+  12-  13-      46  152681  0.055690  0.448106\n",
              " 11+  12-  13+      42  116650  0.050847  0.342358\n",
              "\n",
              "[678085 rows x 4 columns]"
            ]
          },
          "metadata": {},
          "execution_count": 23
        }
      ]
    }
  ]
}